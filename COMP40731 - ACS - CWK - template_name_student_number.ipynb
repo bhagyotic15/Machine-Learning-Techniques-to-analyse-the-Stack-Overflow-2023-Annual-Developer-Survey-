{
 "cells": [
  {
   "cell_type": "markdown",
   "id": "35d290ad",
   "metadata": {},
   "source": [
    "# COMP40731 Artificial Cognitive Systems\n",
    "### Student name: John Doe\n",
    "### Student Id: Nxxxxxxxxxx\n",
    "### Group Id: \n",
    "**Note:** Only if you worked in a group\n",
    "### Group member id:\n",
    "**Note:** Only if you worked in a group\n",
    "\n",
    "### Markdown language support\n",
    "Check [here](https://www.markdownguide.org/extended-syntax/) to find more details about markdown\n",
    "\n",
    "\n",
    "### Add a diagram of your architecture\n",
    "\n",
    "<ADD DIAGRAM HERE>\n"
   ]
  },
  {
   "cell_type": "markdown",
   "id": "0ca71aa8",
   "metadata": {},
   "source": [
    "# Notes\n",
    "\n",
    "### JSON for Configuration Flexibility: \n",
    "JSON files must be utilised to enable flexible configuration of SNN network parameters, storing crucial details such as layer sizes, learning rates, and hyperparameters.\n",
    "\n",
    "### HDF5 Storage for Encoded Signal:  \n",
    "Separate HDF5 files must be implemented to store the encoded signal before and after exposure to noise. The structure, datasets, and relevant metadata must be clearly documented.\n",
    "\n",
    "### NPY Storage for SNN Weights: \n",
    "SNN weights must be stored in an NPY file, including weights for each network layer. Clear explanations and comments within the Jupyter Notebook regarding the organisation and structure of the NPY file are required.\n",
    "\n",
    "### AI Ethics Integration: \n",
    "AI ethics by design principles must be integrated into the SNN implementation. Implement steps to identify and mitigate algorithmic biases. \n",
    "\n",
    "### Spiking Records and Multimeters Integration:\n",
    "\n",
    "    Utilise spiking records and multimeters within the SNN architecture to record spike events and measure action potentials of decoding neurons.\n",
    "    Use spike recorders, capturing temporal patterns and relevant information during the encoding, decoding, and learning processes.\n",
    "    Use multimeters to measure the action potentials of decoding neurons, providing valuable insights into the dynamics and responsiveness of the network.\n",
    "    Integrate visualisations or plots within the Jupyter Notebook to showcase the recorded spiking events and action potentials, aiding in a comprehensive analysis of the SNN's behaviour and performance.\n",
    "    \n",
    "### Intercalated Training and Testing with Synaptic Switching:\n",
    "\n",
    "    Implement an intercalated training approach where supervised learning is used for a specified number of epochs, followed by testing using static synapses for a single epoch.\n",
    "    During training epochs, utilise supervised learning to enhance the SNN's performance and optimise decoding capabilities.\n",
    "    Implement a mechanism to switch synapses to a static configuration during testing, allowing for the assessment of the network's generalisation and stability.\n",
    "    Periodically store the SNN weights before switching to static synapses to preserve the learned information and facilitate analysis.\n",
    "    Document and discuss the impact of this intercalated training and testing approach on the SNN's performance, emphasising improvements achieved through supervised learning and the network's ability to generalise with static synapses.\n"
   ]
  },
  {
   "cell_type": "markdown",
   "id": "882f4b97",
   "metadata": {},
   "source": [
    "## Import section\n",
    "Import all the libraies that you need"
   ]
  },
  {
   "cell_type": "code",
   "execution_count": null,
   "id": "f47f97aa",
   "metadata": {},
   "outputs": [],
   "source": [
    "import nest"
   ]
  },
  {
   "cell_type": "markdown",
   "id": "f0181917",
   "metadata": {},
   "source": [
    "#### layer 1 (encoding layer): How many populations of neurons? How many neurons per populations? Which neuron models were used? What are the connectivity types? Provide a table with all the parameterisations for the neurons and synapses\n",
    "The encoding layer should independently encode both image and sound information using these channels.\n",
    "Use  one of the following neuron models:\n",
    "\n",
    "    iaf_psc_exp – Leaky integrate-and-fire neuron model with exponential PSCs\n",
    "    iaf_psc_alpha – Leaky integrate-and-fire model with alpha-shaped input currents\n",
    "    izhikevich – Izhikevich neuron model\n",
    "    mat2_psc_exp – Non-resetting leaky integrate-and-fire neuron model with exponential PSCs and adaptive threshold\n",
    "    parrot_neuron_ps – Neuron that repeats incoming spikes - precise spike timing version\n",
    "\n",
    "\n",
    "##### Neurons\n",
    "| parameter | Description | value or range | IS units | \n",
    "| --------- | ----------- |--------------- | -------- |\n",
    "| row 1     |             |                |          |\n",
    "\n",
    "\n",
    "##### Synapses\n",
    "| parameter | Description | value or range | IS units | \n",
    "| --------- | ----------- |--------------- | -------- |\n",
    "| row 1     |             |                |          |\n",
    "\n",
    "\n",
    "###### Connectivity details\n",
    "| parameter | Description | value or range | IS units | \n",
    "| --------- | ----------- |--------------- | -------- |\n",
    "| row 1     |             |                |          |\n",
    "\n",
    "\n",
    "###### Does the architecture changes during the training and inference phases? If you answer yes, explain why.\n",
    "\n",
    "\n"
   ]
  },
  {
   "cell_type": "code",
   "execution_count": null,
   "id": "ce838e90",
   "metadata": {},
   "outputs": [],
   "source": []
  },
  {
   "cell_type": "markdown",
   "id": "7869891d",
   "metadata": {},
   "source": [
    "#### layer 2: How many populations of neurons? How many neurons per populations? Which neuron models were used? What are the connectivity types? Provide a table with all the parameterisations for the neurons and synapses\n",
    "\n",
    "Use  one of the following neuron models:\n",
    "\n",
    "    iaf_psc_exp – Leaky integrate-and-fire neuron model with exponential PSCs\n",
    "    iaf_psc_alpha – Leaky integrate-and-fire model with alpha-shaped input currents\n",
    "    izhikevich – Izhikevich neuron model\n",
    "    mat2_psc_exp – Non-resetting leaky integrate-and-fire neuron model with exponential PSCs and adaptive threshold\n",
    "    parrot_neuron_ps – Neuron that repeats incoming spikes - precise spike timing version\n",
    "\n",
    "\n",
    "##### Neurons\n",
    "| parameter | Description | value or range | IS units | \n",
    "| --------- | ----------- |--------------- | -------- |\n",
    "| row 1     |             |                |          |\n",
    "\n",
    "\n",
    "##### Synapses\n",
    "| parameter | Description | value or range | IS units | \n",
    "| --------- | ----------- |--------------- | -------- |\n",
    "| row 1     |             |                |          |\n",
    "\n",
    "\n",
    "###### Connectivity details\n",
    "| parameter | Description | value or range | IS units | \n",
    "| --------- | ----------- |--------------- | -------- |\n",
    "| row 1     |             |                |          |\n",
    "\n",
    "\n",
    "###### Does the architecture changes during the training and inference phases? If you answer yes, explain why."
   ]
  },
  {
   "cell_type": "code",
   "execution_count": null,
   "id": "cff1ef44",
   "metadata": {},
   "outputs": [],
   "source": []
  },
  {
   "cell_type": "markdown",
   "id": "4e45b89c",
   "metadata": {},
   "source": [
    "#### noisy layer : How many populations of neurons? How many neurons per populations? Which neuron models were used? What are the connectivity types? Provide a table with all the parameterisations for the neurons and synapses\n",
    "\n",
    "A noisy layer must be implemented after the encoding phase, subjecting the encoded information to at least one type of noise. Use oe of the noise types listed below. Justify your choice and its impact on the SNN.\n",
    "\n",
    "    spike_generator – Generate spikes from an array with spike-times\n",
    "    spike_train_injector – Neuron that emits prescribed spike trains.\n",
    "    noise_generator – Generate a Gaussian white noise current\n",
    "    poisson_generator – Generate spikes with Poisson process statistics\n",
    "    poisson_generator_ps – Simulated neuron firing with Poisson process statistics - precise spike timing version with arbitrary dead times\n",
    "    pulsepacket_generator – Generate sequence of Gaussian pulse packets\n",
    "    sinusoidal_gamma_generator – Generates sinusoidally modulated gamma spike trains\n",
    "    sinusoidal_poisson_generator – Generate sinusoidally modulated Poisson spike trains\n",
    "\n",
    "\n",
    "##### Neurons\n",
    "| parameter | Description | value or range | IS units | \n",
    "| --------- | ----------- |--------------- | -------- |\n",
    "| row 1     |             |                |          |\n",
    "\n",
    "\n",
    "##### Synapses\n",
    "| parameter | Description | value or range | IS units | \n",
    "| --------- | ----------- |--------------- | -------- |\n",
    "| row 1     |             |                |          |\n",
    "\n",
    "\n",
    "###### Connectivity details\n",
    "| parameter | Description | value or range | IS units | \n",
    "| --------- | ----------- |--------------- | -------- |\n",
    "| row 1     |             |                |          |\n",
    "\n",
    "\n",
    "###### Does the architecture changes during the training and inference phases? If you answer yes, explain why."
   ]
  },
  {
   "cell_type": "code",
   "execution_count": null,
   "id": "19b193d8",
   "metadata": {},
   "outputs": [],
   "source": [
    "    "
   ]
  },
  {
   "cell_type": "markdown",
   "id": "ca962018",
   "metadata": {},
   "source": [
    "#### lateral inhibition layer : How many populations of neurons? How many neurons per populations? Which neuron models were used? What are the connectivity types? Provide a table with all the parameterisations for the neurons and synapses\n",
    "Use  one of the following neuron models:\n",
    "\n",
    "    iaf_psc_exp – Leaky integrate-and-fire neuron model with exponential PSCs\n",
    "    iaf_psc_alpha – Leaky integrate-and-fire model with alpha-shaped input currents\n",
    "    izhikevich – Izhikevich neuron model\n",
    "    mat2_psc_exp – Non-resetting leaky integrate-and-fire neuron model with exponential PSCs and adaptive threshold\n",
    "    parrot_neuron_ps – Neuron that repeats incoming spikes - precise spike timing version\n",
    "    \n",
    "Lateral Inhibition and Synaptic Time Delays: Implement lateral inhibition within the SNN architecture to enhance competition among neighboring neurons, refining the encoding and decoding processes. Incorporate synapses with different time delays in the network, allowing for varied temporal interactions between neurons. Discuss the rationale behind the choice of time delays and their impact on information processing within the spiking neural network.\n",
    "\n",
    "\n",
    "##### Neurons\n",
    "| parameter | Description | value or range | IS units | \n",
    "| --------- | ----------- |--------------- | -------- |\n",
    "| row 1     |             |                |          |\n",
    "\n",
    "\n",
    "##### Synapses\n",
    "| parameter | Description | value or range | IS units | \n",
    "| --------- | ----------- |--------------- | -------- |\n",
    "| row 1     |             |                |          |\n",
    "\n",
    "\n",
    "###### Connectivity details\n",
    "| parameter | Description | value or range | IS units | \n",
    "| --------- | ----------- |--------------- | -------- |\n",
    "| row 1     |             |                |          |\n",
    "\n",
    "\n",
    "###### Does the architecture changes during the training and inference phases? If you answer yes, explain why."
   ]
  },
  {
   "cell_type": "code",
   "execution_count": null,
   "id": "ea1d4c64",
   "metadata": {},
   "outputs": [],
   "source": []
  },
  {
   "cell_type": "markdown",
   "id": "3fff3dfb",
   "metadata": {},
   "source": [
    "#### layer 3 (decoding layer): How many populations of neurons? How many neurons per populations? Which neuron models were used? What are the connectivity types? Provide a table with all the parameterisations for the neurons and synapses\n",
    "\n",
    "\n",
    "1. Engineer a decoding layer as the third segment, strategically designed to efficiently recover both audio and image from the encoded information.\n",
    "2. Employ a sophisticated approach by incorporating inhibitory and excitatory synapses in the training process. Leverage either unsupervised or supervised learning to train the decoding layer, optimising the interplay between these synapses for enhanced performance.\n",
    "Use  one of the following neuron models:\n",
    "\n",
    "    iaf_psc_exp – Leaky integrate-and-fire neuron model with exponential PSCs\n",
    "    iaf_psc_alpha – Leaky integrate-and-fire model with alpha-shaped input currents\n",
    "    izhikevich – Izhikevich neuron model\n",
    "    mat2_psc_exp – Non-resetting leaky integrate-and-fire neuron model with exponential PSCs and adaptive threshold\n",
    "    parrot_neuron_ps – Neuron that repeats incoming spikes - precise spike timing version\n",
    "\n",
    "Synaptic Learning in Decoding Layer:  Inhibitory and excitatory synapses must be incorporated in the training process of the decoding layer, leveraging either unsupervised or supervised learning. The interplay between these synapses should be optimised for enhanced performance.\n",
    "\n",
    "Types of Synapses:\n",
    "\n",
    "    stdp_synapse – Synapse type for spike-timing dependent plasticity\n",
    "    static_synapse – Synapse type for static connections\n",
    "\n",
    "\n",
    "##### Neurons\n",
    "| parameter | Description | value or range | IS units | \n",
    "| --------- | ----------- |--------------- | -------- |\n",
    "| row 1     |             |                |          |\n",
    "\n",
    "\n",
    "##### Synapses\n",
    "| parameter | Description | value or range | IS units | \n",
    "| --------- | ----------- |--------------- | -------- |\n",
    "| row 1     |             |                |          |\n",
    "\n",
    "\n",
    "###### Connectivity details\n",
    "| parameter | Description | value or range | IS units | \n",
    "| --------- | ----------- |--------------- | -------- |\n",
    "| row 1     |             |                |          |\n",
    "\n",
    "\n",
    "###### Does the architecture changes during the training and inference phases? If you answer yes, explain why."
   ]
  },
  {
   "cell_type": "code",
   "execution_count": null,
   "id": "71f02e4b",
   "metadata": {},
   "outputs": [],
   "source": []
  },
  {
   "cell_type": "markdown",
   "id": "15287de5",
   "metadata": {},
   "source": [
    "#### layer n [optional, add as many as you need]: How many populations of neurons? How many neurons per populations? Which neuron models were used? What are the connectivity types? Provide a table with all the parameterisations for the neurons and synapses\n",
    "\n",
    "Use  one of the following neuron models:\n",
    "\n",
    "    iaf_psc_exp – Leaky integrate-and-fire neuron model with exponential PSCs\n",
    "    iaf_psc_alpha – Leaky integrate-and-fire model with alpha-shaped input currents\n",
    "    izhikevich – Izhikevich neuron model\n",
    "    mat2_psc_exp – Non-resetting leaky integrate-and-fire neuron model with exponential PSCs and adaptive threshold\n",
    "    parrot_neuron_ps – Neuron that repeats incoming spikes - precise spike timing version\n",
    "\n",
    "\n",
    "##### Neurons\n",
    "| parameter    | Description | value or range | IS units | \n",
    "| -------- | ------- |------- | ------- |\n",
    "\n",
    "###### Synapses\n",
    "| parameter    | Description | value or range | IS units | \n",
    "| -------- | ------- |------- | ------- |\n",
    "\n",
    "###### Connectivity details\n",
    "| pre    | post | connectivity | Type (inhibitory or excitatory) | \n",
    "| -------- | ------- |------- | ------- |\n",
    "\n",
    "###### Does the architecture changes during the training and inference phases? If you answer yes, explain why."
   ]
  },
  {
   "cell_type": "code",
   "execution_count": null,
   "id": "0d4019f6",
   "metadata": {},
   "outputs": [],
   "source": []
  },
  {
   "cell_type": "markdown",
   "id": "10e94c16",
   "metadata": {},
   "source": [
    "### Spike metrics\n",
    "Spike Metrics Utilisation: Spike metrics must be employed to precisely quantify errors during the decoding process."
   ]
  },
  {
   "cell_type": "code",
   "execution_count": null,
   "id": "80f9643c",
   "metadata": {},
   "outputs": [],
   "source": []
  },
  {
   "cell_type": "markdown",
   "id": "039e1a20",
   "metadata": {},
   "source": [
    "## SNN Training Paradigm:  \n",
    "The SNN must be trained using the chosen learning paradigm (unsupervised or supervised) and use the encoded signal before exposure of noise as testing set.\n",
    "\n",
    "    Unsupervised learning\n",
    "    Supervised learning\n"
   ]
  },
  {
   "cell_type": "code",
   "execution_count": null,
   "id": "49b991ec",
   "metadata": {},
   "outputs": [],
   "source": []
  },
  {
   "cell_type": "markdown",
   "id": "ba885626",
   "metadata": {},
   "source": [
    "## Performance Evaluation on Testing Set: \n",
    "Evaluation of the SNN's performance must be conducted on the testing set (encoded signal before exposure of noise)."
   ]
  },
  {
   "cell_type": "code",
   "execution_count": null,
   "id": "a3a3fa73",
   "metadata": {},
   "outputs": [],
   "source": []
  },
  {
   "cell_type": "markdown",
   "id": "ab0d8cbc",
   "metadata": {},
   "source": [
    "## MP4 Storage for Reconstructed Video:  \n",
    "The reconstructed video after training must be saved in an MP4 file"
   ]
  },
  {
   "cell_type": "code",
   "execution_count": null,
   "id": "aac2f32f",
   "metadata": {},
   "outputs": [],
   "source": []
  },
  {
   "cell_type": "markdown",
   "id": "19b054ca",
   "metadata": {},
   "source": [
    "## Results Analysis\n",
    "Discuss the results"
   ]
  },
  {
   "cell_type": "code",
   "execution_count": null,
   "id": "dfcef520",
   "metadata": {},
   "outputs": [],
   "source": []
  },
  {
   "cell_type": "markdown",
   "id": "e0d5090b",
   "metadata": {},
   "source": [
    "## Conclusions and Future work\n",
    "Draw the final conclusions and discuss the future work"
   ]
  },
  {
   "cell_type": "code",
   "execution_count": null,
   "id": "8fd506e2",
   "metadata": {},
   "outputs": [],
   "source": []
  },
  {
   "cell_type": "markdown",
   "id": "07fb2d58",
   "metadata": {},
   "source": [
    "## Discuss the AI ethics\n",
    "Discuss the AI ethics implications in terms of security, protection, accountability, and algorithmic bias."
   ]
  },
  {
   "cell_type": "code",
   "execution_count": null,
   "id": "d5b6135d",
   "metadata": {},
   "outputs": [],
   "source": []
  }
 ],
 "metadata": {
  "kernelspec": {
   "display_name": "Python 3 (ipykernel)",
   "language": "python",
   "name": "python3"
  },
  "language_info": {
   "codemirror_mode": {
    "name": "ipython",
    "version": 3
   },
   "file_extension": ".py",
   "mimetype": "text/x-python",
   "name": "python",
   "nbconvert_exporter": "python",
   "pygments_lexer": "ipython3",
   "version": "3.10.12"
  }
 },
 "nbformat": 4,
 "nbformat_minor": 5
}
